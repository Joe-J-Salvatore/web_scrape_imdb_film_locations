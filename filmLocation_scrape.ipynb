{
 "cells": [
  {
   "cell_type": "markdown",
   "source": [
    "<h2><strong>Hollywood Film Locations Web Scrape</strong></h2>"
   ],
   "metadata": {}
  },
  {
   "cell_type": "markdown",
   "source": [
    "<p>Scrape a film's shooting locations from the Internet Movie Database (www.imdb.com).</p><p>A given film's shooting locations are listed on its own page (www.imdb.com/title/unique_film_id/locations?ref_=tt_dt_loc).</p>  <p>A link to this page can be found under the Details subsection on the film's main page.</p><p>On the locations page, each filming location is listed as link. Some of the listings include the scene which was filmed at the given location</p><p>This project grabs all the text from IMDB and places it in an Microsoft Excel sheet for further cleaning and exam.</p>"
   ],
   "metadata": {}
  },
  {
   "cell_type": "code",
   "execution_count": null,
   "source": [
    " # customary imports for getting web page and scraping it\n",
    "import requests\n",
    "from bs4 import BeautifulSoup"
   ],
   "outputs": [],
   "metadata": {}
  },
  {
   "cell_type": "code",
   "execution_count": null,
   "source": [
    "# Get website url, and parse it\n",
    "# This example requests from the Internet Movie Database the filming locations web page for the 1978 Horror film Halloween\n",
    "page = requests.get(\n",
    "    \"https://www.imdb.com/title/tt0077651/locations?ref_=tt_dt_loc\")\n",
    "\n",
    "soup = BeautifulSoup(page.content, 'html.parser')\n"
   ],
   "outputs": [],
   "metadata": {}
  },
  {
   "cell_type": "code",
   "execution_count": null,
   "source": [
    "# Preview the metadata for the film's URL id\n",
    "meta = soup.select(\"head meta\")\n",
    "print(meta)"
   ],
   "outputs": [],
   "metadata": {}
  },
  {
   "cell_type": "code",
   "execution_count": null,
   "source": [
    "# Get the film's unique ID for potential dynamic URL function argument (input)\n",
    "id = soup.find(\"meta\", property=\"pageId\")\n",
    "print(id[\"content\"] if id else \"None found\")\n"
   ],
   "outputs": [],
   "metadata": {}
  },
  {
   "cell_type": "code",
   "execution_count": null,
   "source": [
    "# Get the web page's filming locations section with id=filming_locations\n",
    "locations = soup.find(id=\"filming_locations\")\n",
    "print(locations)"
   ],
   "outputs": [],
   "metadata": {}
  },
  {
   "cell_type": "code",
   "execution_count": null,
   "source": [
    "# Get the locations, each one listed within the soda class\n",
    "locs = locations.findAll(class_=\"soda\")\n",
    "print(locs)"
   ],
   "outputs": [],
   "metadata": {}
  },
  {
   "cell_type": "code",
   "execution_count": null,
   "source": [
    "# Get the anchor tags which include the individual location text\n",
    "places = locations.select(\"dt a\")\n",
    "print(places)"
   ],
   "outputs": [],
   "metadata": {}
  },
  {
   "cell_type": "code",
   "execution_count": null,
   "source": [
    "# Test and confirm that I can get the text I want\n",
    "one = places[0].get_text()\n",
    "print(one)"
   ],
   "outputs": [],
   "metadata": {}
  },
  {
   "cell_type": "code",
   "execution_count": null,
   "source": [
    "# Create a list of all the location strings\n",
    "addresses = [p.get_text() for p in places]\n",
    "print(addresses)"
   ],
   "outputs": [],
   "metadata": {}
  },
  {
   "cell_type": "code",
   "execution_count": null,
   "source": [
    "# Iterate through list of strings, remove newline character\n",
    "for i, e in enumerate(addresses):\n",
    "    addresses[i] = e.replace('\\n', '')\n",
    "    print(addresses)"
   ],
   "outputs": [],
   "metadata": {}
  },
  {
   "cell_type": "code",
   "execution_count": null,
   "source": [
    "# Get scene descriptions (if any) for each location\n",
    "scene = locations.select(\"dd\")\n",
    "print(scene)"
   ],
   "outputs": [],
   "metadata": {}
  },
  {
   "cell_type": "code",
   "execution_count": null,
   "source": [
    "# Iterate through list of scenes, remove newline character\n",
    "scenes = [s.get_text() for s in scene]\n",
    "for i, e in enumerate(scenes):\n",
    "    scenes[i] = e.replace('\\n', '')\n",
    "print(scenes)"
   ],
   "outputs": [],
   "metadata": {}
  },
  {
   "cell_type": "code",
   "execution_count": null,
   "source": [
    "# Iterate through list of scenes, remove parenthesis characters\n",
    "for i, e in enumerate(scenes):\n",
    "    scenes[i] = e.replace('(', '').replace(')', '')\n",
    "print(scenes)"
   ],
   "outputs": [],
   "metadata": {}
  },
  {
   "cell_type": "markdown",
   "source": [
    "<h2><strong>Cleaning Text</strong></h2>"
   ],
   "metadata": {}
  },
  {
   "cell_type": "code",
   "execution_count": null,
   "source": [
    "# import Python Pandas \n",
    "import pandas as pd"
   ],
   "outputs": [],
   "metadata": {}
  },
  {
   "cell_type": "code",
   "execution_count": null,
   "source": [
    "# Create Pandas Dataframe of scene description and locations\n",
    "film_locations = pd.DataFrame({\n",
    "    \"scene\": scenes, \n",
    "    \"address\": addresses\n",
    "})\n",
    "film_locations"
   ],
   "outputs": [],
   "metadata": {}
  },
  {
   "cell_type": "code",
   "execution_count": null,
   "source": [
    "# Remove all Null (blank) scene description rows\n",
    "index_loc = film_locations[film_locations['scene'] == ''].index\n",
    "film_locations.drop(index_loc, inplace=True)\n",
    "film_locations"
   ],
   "outputs": [],
   "metadata": {}
  },
  {
   "cell_type": "code",
   "execution_count": null,
   "source": [
    "# Get film title to use within function coded below\n",
    "name = soup.select(\"h3 a\")\n",
    "title  = name[0].get_text()"
   ],
   "outputs": [],
   "metadata": {}
  },
  {
   "cell_type": "markdown",
   "source": [
    "<h2><strong>Put it in a function</strong></h2>"
   ],
   "metadata": {}
  },
  {
   "cell_type": "code",
   "execution_count": null,
   "source": [
    "# Export Pandas Dataframe to Microsoft Excel sheet\n",
    "film_locations.to_excel(\"halloween1978_filmLocations.xlsx\")"
   ],
   "outputs": [],
   "metadata": {}
  },
  {
   "cell_type": "code",
   "execution_count": null,
   "source": [
    "# Python function to automate process\n",
    "def scrapeImdbLocations(url):\n",
    "   path = url\n",
    "   # imports\n",
    "   import requests\n",
    "   from bs4 import BeautifulSoup\n",
    "   import pandas as pd\n",
    "   # get web site\n",
    "   page = requests.get(path)\n",
    "   soup = BeautifulSoup(page.content, 'html.parser')\n",
    "   # get film title\n",
    "   name = soup.select(\"h3 a\")\n",
    "   title = name[0].get_text()\n",
    "   # get film locations\n",
    "   locations = soup.find(id=\"filming_locations\")\n",
    "   places = locations.select(\"dt a\")\n",
    "   # remove newline chars from location address\n",
    "   addresses = [p.get_text() for p in places]\n",
    "   for i, e in enumerate(addresses):\n",
    "    addresses[i] = e.replace('\\n', '')\n",
    "   # remove newline and parenthesis from location scene info\n",
    "   scene = locations.select(\"dd\")\n",
    "   scenes = [s.get_text() for s in scene]\n",
    "   for i, e in enumerate(scenes):\n",
    "    scenes[i] = e.replace('\\n', '').replace('(', '').replace(')', '')\n",
    "   # create Pandas dataframe\n",
    "   film_locations = pd.DataFrame({\n",
    "     \"scene\": scenes, \n",
    "     \"address\": addresses\n",
    "   })\n",
    "   # remove empty locations\n",
    "   index_loc = film_locations[film_locations['scene'] == ''].index\n",
    "   film_locations.drop(index_loc, inplace=True)\n",
    "   # export dataframe to MS Excel sheet\n",
    "   film_locations.to_excel(title+\"_filmLocations.xlsx\")\n",
    "\n",
    "    \n",
    "\n",
    "    \n",
    "   \n",
    "   \n",
    "   \n",
    "   \n",
    "\n"
   ],
   "outputs": [],
   "metadata": {}
  },
  {
   "cell_type": "code",
   "execution_count": null,
   "source": [
    "# Test above function, supplying it with the 1991 film Dances with Wolves film locations URL\n",
    "scrapeImdbLocations(\n",
    "    'https://www.imdb.com/title/tt0099348/locations?ref_=tt_dt_loc')\n"
   ],
   "outputs": [],
   "metadata": {}
  }
 ],
 "metadata": {
  "orig_nbformat": 4,
  "language_info": {
   "name": "python",
   "version": "3.8.10",
   "mimetype": "text/x-python",
   "codemirror_mode": {
    "name": "ipython",
    "version": 3
   },
   "pygments_lexer": "ipython3",
   "nbconvert_exporter": "python",
   "file_extension": ".py"
  },
  "kernelspec": {
   "name": "python3",
   "display_name": "Python 3.8.10 64-bit"
  },
  "interpreter": {
   "hash": "31f2aee4e71d21fbe5cf8b01ff0e069b9275f58929596ceb00d14d90e3e16cd6"
  }
 },
 "nbformat": 4,
 "nbformat_minor": 2
}